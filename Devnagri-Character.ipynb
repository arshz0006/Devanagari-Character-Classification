{
 "cells": [
  {
   "cell_type": "code",
   "execution_count": 1,
   "id": "4ff1ee21",
   "metadata": {
    "execution": {
     "iopub.execute_input": "2021-10-23T06:25:07.798334Z",
     "iopub.status.busy": "2021-10-23T06:25:07.797617Z",
     "iopub.status.idle": "2021-10-23T06:25:11.804214Z",
     "shell.execute_reply": "2021-10-23T06:25:11.804762Z",
     "shell.execute_reply.started": "2021-10-23T06:07:08.727983Z"
    },
    "papermill": {
     "duration": 4.035418,
     "end_time": "2021-10-23T06:25:11.805033",
     "exception": false,
     "start_time": "2021-10-23T06:25:07.769615",
     "status": "completed"
    },
    "tags": []
   },
   "outputs": [],
   "source": [
    "import numpy as np \n",
    "import pandas as pd\n",
    "import tensorflow as tf\n",
    "import matplotlib.pyplot as plt"
   ]
  },
  {
   "cell_type": "code",
   "execution_count": 2,
   "id": "a16ed25c",
   "metadata": {
    "execution": {
     "iopub.execute_input": "2021-10-23T06:25:11.845471Z",
     "iopub.status.busy": "2021-10-23T06:25:11.843729Z",
     "iopub.status.idle": "2021-10-23T06:25:11.846092Z",
     "shell.execute_reply": "2021-10-23T06:25:11.846556Z",
     "shell.execute_reply.started": "2021-10-23T06:07:12.850154Z"
    },
    "papermill": {
     "duration": 0.024218,
     "end_time": "2021-10-23T06:25:11.846691",
     "exception": false,
     "start_time": "2021-10-23T06:25:11.822473",
     "status": "completed"
    },
    "tags": []
   },
   "outputs": [],
   "source": [
    "IMAGE_SIZE = 32\n",
    "BATCH_SIZE = 32\n",
    "CHANNELS = 3\n",
    "EPOCHS = 100"
   ]
  },
  {
   "cell_type": "code",
   "execution_count": 3,
   "id": "27c2141c",
   "metadata": {
    "execution": {
     "iopub.execute_input": "2021-10-23T06:25:11.885075Z",
     "iopub.status.busy": "2021-10-23T06:25:11.884320Z",
     "iopub.status.idle": "2021-10-23T06:25:26.284366Z",
     "shell.execute_reply": "2021-10-23T06:25:26.284771Z",
     "shell.execute_reply.started": "2021-10-23T06:07:12.858185Z"
    },
    "papermill": {
     "duration": 14.421176,
     "end_time": "2021-10-23T06:25:26.284929",
     "exception": false,
     "start_time": "2021-10-23T06:25:11.863753",
     "status": "completed"
    },
    "tags": []
   },
   "outputs": [
    {
     "name": "stdout",
     "output_type": "stream",
     "text": [
      "Found 78200 files belonging to 46 classes.\n"
     ]
    },
    {
     "name": "stderr",
     "output_type": "stream",
     "text": [
      "2021-10-23 06:25:23.981203: I tensorflow/stream_executor/cuda/cuda_gpu_executor.cc:937] successful NUMA node read from SysFS had negative value (-1), but there must be at least one NUMA node, so returning NUMA node zero\n",
      "2021-10-23 06:25:24.069052: I tensorflow/stream_executor/cuda/cuda_gpu_executor.cc:937] successful NUMA node read from SysFS had negative value (-1), but there must be at least one NUMA node, so returning NUMA node zero\n",
      "2021-10-23 06:25:24.069774: I tensorflow/stream_executor/cuda/cuda_gpu_executor.cc:937] successful NUMA node read from SysFS had negative value (-1), but there must be at least one NUMA node, so returning NUMA node zero\n",
      "2021-10-23 06:25:24.072647: I tensorflow/core/platform/cpu_feature_guard.cc:142] This TensorFlow binary is optimized with oneAPI Deep Neural Network Library (oneDNN) to use the following CPU instructions in performance-critical operations:  AVX2 AVX512F FMA\n",
      "To enable them in other operations, rebuild TensorFlow with the appropriate compiler flags.\n",
      "2021-10-23 06:25:24.073679: I tensorflow/stream_executor/cuda/cuda_gpu_executor.cc:937] successful NUMA node read from SysFS had negative value (-1), but there must be at least one NUMA node, so returning NUMA node zero\n",
      "2021-10-23 06:25:24.074390: I tensorflow/stream_executor/cuda/cuda_gpu_executor.cc:937] successful NUMA node read from SysFS had negative value (-1), but there must be at least one NUMA node, so returning NUMA node zero\n",
      "2021-10-23 06:25:24.074974: I tensorflow/stream_executor/cuda/cuda_gpu_executor.cc:937] successful NUMA node read from SysFS had negative value (-1), but there must be at least one NUMA node, so returning NUMA node zero\n",
      "2021-10-23 06:25:25.890211: I tensorflow/stream_executor/cuda/cuda_gpu_executor.cc:937] successful NUMA node read from SysFS had negative value (-1), but there must be at least one NUMA node, so returning NUMA node zero\n",
      "2021-10-23 06:25:25.890970: I tensorflow/stream_executor/cuda/cuda_gpu_executor.cc:937] successful NUMA node read from SysFS had negative value (-1), but there must be at least one NUMA node, so returning NUMA node zero\n",
      "2021-10-23 06:25:25.891726: I tensorflow/stream_executor/cuda/cuda_gpu_executor.cc:937] successful NUMA node read from SysFS had negative value (-1), but there must be at least one NUMA node, so returning NUMA node zero\n",
      "2021-10-23 06:25:25.892392: I tensorflow/core/common_runtime/gpu/gpu_device.cc:1510] Created device /job:localhost/replica:0/task:0/device:GPU:0 with 15403 MB memory:  -> device: 0, name: Tesla P100-PCIE-16GB, pci bus id: 0000:00:04.0, compute capability: 6.0\n"
     ]
    }
   ],
   "source": [
    "dataset = tf.keras.preprocessing.image_dataset_from_directory(\n",
    "    \"../input/devnagri-script-classification/Data/Train\",\n",
    "    shuffle = True,\n",
    "    image_size = (IMAGE_SIZE, IMAGE_SIZE),\n",
    "    batch_size = BATCH_SIZE\n",
    ")"
   ]
  },
  {
   "cell_type": "code",
   "execution_count": 4,
   "id": "fc700af0",
   "metadata": {
    "execution": {
     "iopub.execute_input": "2021-10-23T06:25:26.326166Z",
     "iopub.status.busy": "2021-10-23T06:25:26.325380Z",
     "iopub.status.idle": "2021-10-23T06:25:26.327955Z",
     "shell.execute_reply": "2021-10-23T06:25:26.327524Z",
     "shell.execute_reply.started": "2021-10-23T06:07:41.473345Z"
    },
    "papermill": {
     "duration": 0.023833,
     "end_time": "2021-10-23T06:25:26.328058",
     "exception": false,
     "start_time": "2021-10-23T06:25:26.304225",
     "status": "completed"
    },
    "tags": []
   },
   "outputs": [],
   "source": [
    "class_names = dataset.class_names"
   ]
  },
  {
   "cell_type": "code",
   "execution_count": 5,
   "id": "858760fa",
   "metadata": {
    "execution": {
     "iopub.execute_input": "2021-10-23T06:25:26.370864Z",
     "iopub.status.busy": "2021-10-23T06:25:26.370149Z",
     "iopub.status.idle": "2021-10-23T06:25:26.373592Z",
     "shell.execute_reply": "2021-10-23T06:25:26.374091Z",
     "shell.execute_reply.started": "2021-10-23T06:07:41.47948Z"
    },
    "papermill": {
     "duration": 0.028593,
     "end_time": "2021-10-23T06:25:26.374258",
     "exception": false,
     "start_time": "2021-10-23T06:25:26.345665",
     "status": "completed"
    },
    "tags": []
   },
   "outputs": [
    {
     "data": {
      "text/plain": [
       "['character_10_yna',\n",
       " 'character_11_taamatar',\n",
       " 'character_12_thaa',\n",
       " 'character_13_daa',\n",
       " 'character_14_dhaa',\n",
       " 'character_15_adna',\n",
       " 'character_16_tabala',\n",
       " 'character_17_tha',\n",
       " 'character_18_da',\n",
       " 'character_19_dha',\n",
       " 'character_1_ka',\n",
       " 'character_20_na',\n",
       " 'character_21_pa',\n",
       " 'character_22_pha',\n",
       " 'character_23_ba',\n",
       " 'character_24_bha',\n",
       " 'character_25_ma',\n",
       " 'character_26_yaw',\n",
       " 'character_27_ra',\n",
       " 'character_28_la',\n",
       " 'character_29_waw',\n",
       " 'character_2_kha',\n",
       " 'character_30_motosaw',\n",
       " 'character_31_petchiryakha',\n",
       " 'character_32_patalosaw',\n",
       " 'character_33_ha',\n",
       " 'character_34_chhya',\n",
       " 'character_35_tra',\n",
       " 'character_36_gya',\n",
       " 'character_3_ga',\n",
       " 'character_4_gha',\n",
       " 'character_5_kna',\n",
       " 'character_6_cha',\n",
       " 'character_7_chha',\n",
       " 'character_8_ja',\n",
       " 'character_9_jha',\n",
       " 'digit_0',\n",
       " 'digit_1',\n",
       " 'digit_2',\n",
       " 'digit_3',\n",
       " 'digit_4',\n",
       " 'digit_5',\n",
       " 'digit_6',\n",
       " 'digit_7',\n",
       " 'digit_8',\n",
       " 'digit_9']"
      ]
     },
     "execution_count": 5,
     "metadata": {},
     "output_type": "execute_result"
    }
   ],
   "source": [
    "class_names"
   ]
  },
  {
   "cell_type": "code",
   "execution_count": 6,
   "id": "6216cc01",
   "metadata": {
    "execution": {
     "iopub.execute_input": "2021-10-23T06:25:26.421939Z",
     "iopub.status.busy": "2021-10-23T06:25:26.421338Z",
     "iopub.status.idle": "2021-10-23T06:25:27.006171Z",
     "shell.execute_reply": "2021-10-23T06:25:27.007436Z",
     "shell.execute_reply.started": "2021-10-23T06:07:41.493391Z"
    },
    "papermill": {
     "duration": 0.612737,
     "end_time": "2021-10-23T06:25:27.007702",
     "exception": false,
     "start_time": "2021-10-23T06:25:26.394965",
     "status": "completed"
    },
    "tags": []
   },
   "outputs": [
    {
     "name": "stderr",
     "output_type": "stream",
     "text": [
      "2021-10-23 06:25:26.452944: I tensorflow/compiler/mlir/mlir_graph_optimization_pass.cc:185] None of the MLIR Optimization Passes are enabled (registered 2)\n"
     ]
    },
    {
     "data": {
      "image/png": "[encoded data removed]",
      "text/plain": [
       "<Figure size 432x288 with 1 Axes>"
      ]
     },
     "metadata": {
      "needs_background": "light"
     },
     "output_type": "display_data"
    }
   ],
   "source": [
    "for image_batch, label_batch in dataset.take(1):\n",
    "    plt.imshow(image_batch[0].numpy().astype(\"uint8\"))\n",
    "    plt.title(class_names[label_batch[0]])\n",
    "    plt.axis(\"off\")"
   ]
  },
  {
   "cell_type": "code",
   "execution_count": 7,
   "id": "af77542d",
   "metadata": {
    "execution": {
     "iopub.execute_input": "2021-10-23T06:25:27.071187Z",
     "iopub.status.busy": "2021-10-23T06:25:27.070439Z",
     "iopub.status.idle": "2021-10-23T06:25:27.072546Z",
     "shell.execute_reply": "2021-10-23T06:25:27.072921Z",
     "shell.execute_reply.started": "2021-10-23T06:07:42.137511Z"
    },
    "papermill": {
     "duration": 0.030657,
     "end_time": "2021-10-23T06:25:27.073053",
     "exception": false,
     "start_time": "2021-10-23T06:25:27.042396",
     "status": "completed"
    },
    "tags": []
   },
   "outputs": [],
   "source": [
    "def partition(data, train_split=0.9, valid_split=0.1, shuffle=True, shuffle_size=10000):\n",
    "    data_size = len(data)\n",
    "    \n",
    "    if shuffle:\n",
    "        data = data.shuffle(shuffle_size, seed=12)\n",
    "    \n",
    "    train_size = int(data_size*train_split)\n",
    "    \n",
    "    train_ds = data.take(train_size)\n",
    "    valid_ds = data.skip(train_size)\n",
    "\n",
    "    return train_ds, valid_ds"
   ]
  },
  {
   "cell_type": "code",
   "execution_count": 8,
   "id": "ef0916a9",
   "metadata": {
    "execution": {
     "iopub.execute_input": "2021-10-23T06:25:27.114046Z",
     "iopub.status.busy": "2021-10-23T06:25:27.113066Z",
     "iopub.status.idle": "2021-10-23T06:25:27.118917Z",
     "shell.execute_reply": "2021-10-23T06:25:27.118499Z",
     "shell.execute_reply.started": "2021-10-23T06:07:42.147013Z"
    },
    "papermill": {
     "duration": 0.027268,
     "end_time": "2021-10-23T06:25:27.119029",
     "exception": false,
     "start_time": "2021-10-23T06:25:27.091761",
     "status": "completed"
    },
    "tags": []
   },
   "outputs": [],
   "source": [
    "train_ds, valid_ds = partition(dataset)"
   ]
  },
  {
   "cell_type": "code",
   "execution_count": 9,
   "id": "73246764",
   "metadata": {
    "execution": {
     "iopub.execute_input": "2021-10-23T06:25:27.161095Z",
     "iopub.status.busy": "2021-10-23T06:25:27.160601Z",
     "iopub.status.idle": "2021-10-23T06:25:27.165098Z",
     "shell.execute_reply": "2021-10-23T06:25:27.164661Z",
     "shell.execute_reply.started": "2021-10-23T06:07:42.160012Z"
    },
    "papermill": {
     "duration": 0.027758,
     "end_time": "2021-10-23T06:25:27.165250",
     "exception": false,
     "start_time": "2021-10-23T06:25:27.137492",
     "status": "completed"
    },
    "tags": []
   },
   "outputs": [
    {
     "data": {
      "text/plain": [
       "(2199, 245)"
      ]
     },
     "execution_count": 9,
     "metadata": {},
     "output_type": "execute_result"
    }
   ],
   "source": [
    "len(train_ds), len(valid_ds)"
   ]
  },
  {
   "cell_type": "code",
   "execution_count": 10,
   "id": "55e9ea26",
   "metadata": {
    "execution": {
     "iopub.execute_input": "2021-10-23T06:25:27.207874Z",
     "iopub.status.busy": "2021-10-23T06:25:27.207063Z",
     "iopub.status.idle": "2021-10-23T06:25:27.211937Z",
     "shell.execute_reply": "2021-10-23T06:25:27.211510Z",
     "shell.execute_reply.started": "2021-10-23T06:07:42.171741Z"
    },
    "papermill": {
     "duration": 0.027852,
     "end_time": "2021-10-23T06:25:27.212039",
     "exception": false,
     "start_time": "2021-10-23T06:25:27.184187",
     "status": "completed"
    },
    "tags": []
   },
   "outputs": [],
   "source": [
    "train_ds = train_ds.cache().shuffle(1000).prefetch(buffer_size=tf.data.AUTOTUNE) \n",
    "valid_ds = valid_ds.cache().shuffle(1000).prefetch(buffer_size=tf.data.AUTOTUNE) "
   ]
  },
  {
   "cell_type": "code",
   "execution_count": 11,
   "id": "8702d5ef",
   "metadata": {
    "execution": {
     "iopub.execute_input": "2021-10-23T06:25:27.253458Z",
     "iopub.status.busy": "2021-10-23T06:25:27.252800Z",
     "iopub.status.idle": "2021-10-23T06:25:27.273326Z",
     "shell.execute_reply": "2021-10-23T06:25:27.272842Z",
     "shell.execute_reply.started": "2021-10-23T06:07:42.184806Z"
    },
    "papermill": {
     "duration": 0.042957,
     "end_time": "2021-10-23T06:25:27.273443",
     "exception": false,
     "start_time": "2021-10-23T06:25:27.230486",
     "status": "completed"
    },
    "tags": []
   },
   "outputs": [],
   "source": [
    "resize_and_rescale = tf.keras.Sequential([\n",
    "    tf.keras.layers.experimental.preprocessing.Resizing(IMAGE_SIZE, IMAGE_SIZE),\n",
    "    tf.keras.layers.experimental.preprocessing.Rescaling(1.0/255)\n",
    "])"
   ]
  },
  {
   "cell_type": "code",
   "execution_count": 12,
   "id": "55957b5d",
   "metadata": {
    "execution": {
     "iopub.execute_input": "2021-10-23T06:25:27.316114Z",
     "iopub.status.busy": "2021-10-23T06:25:27.315282Z",
     "iopub.status.idle": "2021-10-23T06:25:27.322584Z",
     "shell.execute_reply": "2021-10-23T06:25:27.322011Z",
     "shell.execute_reply.started": "2021-10-23T06:07:42.212768Z"
    },
    "papermill": {
     "duration": 0.030223,
     "end_time": "2021-10-23T06:25:27.322697",
     "exception": false,
     "start_time": "2021-10-23T06:25:27.292474",
     "status": "completed"
    },
    "tags": []
   },
   "outputs": [],
   "source": [
    "Data_augmentation = tf.keras.Sequential([\n",
    "    tf.keras.layers.experimental.preprocessing.RandomRotation(0.1)\n",
    "])"
   ]
  },
  {
   "cell_type": "code",
   "execution_count": 13,
   "id": "1ee850ae",
   "metadata": {
    "execution": {
     "iopub.execute_input": "2021-10-23T06:25:27.380923Z",
     "iopub.status.busy": "2021-10-23T06:25:27.377498Z",
     "iopub.status.idle": "2021-10-23T06:25:27.567684Z",
     "shell.execute_reply": "2021-10-23T06:25:27.567021Z",
     "shell.execute_reply.started": "2021-10-23T06:07:42.22427Z"
    },
    "papermill": {
     "duration": 0.22648,
     "end_time": "2021-10-23T06:25:27.567838",
     "exception": false,
     "start_time": "2021-10-23T06:25:27.341358",
     "status": "completed"
    },
    "tags": []
   },
   "outputs": [],
   "source": [
    "input_shape = (BATCH_SIZE, IMAGE_SIZE, IMAGE_SIZE, CHANNELS)\n",
    "n_classes = len(class_names)\n",
    "\n",
    "model = tf.keras.models.Sequential([\n",
    "    resize_and_rescale,\n",
    "    Data_augmentation,\n",
    "    \n",
    "    tf.keras.layers.Conv2D(filters=32, kernel_size=3, strides=(1, 1), padding='same', activation='relu', input_shape = input_shape),\n",
    "    tf.keras.layers.MaxPooling2D(pool_size=(2,2), strides=2,  padding='same'),\n",
    "    tf.keras.layers.BatchNormalization(axis=-1),\n",
    "    \n",
    "    tf.keras.layers.Conv2D(filters=64, kernel_size=3, strides=(1, 1), padding='same', activation='relu'),\n",
    "    tf.keras.layers.MaxPooling2D(pool_size=(2,2), strides=2,  padding='same'),\n",
    "    tf.keras.layers.BatchNormalization(axis=-1),\n",
    "    \n",
    "    tf.keras.layers.Conv2D(filters=128, kernel_size=3, strides=(1, 1), padding='same', activation='relu'),\n",
    "    tf.keras.layers.MaxPooling2D(pool_size=(2,2), strides=2,  padding='same'),\n",
    "    tf.keras.layers.BatchNormalization(axis=-1),\n",
    "    \n",
    "    tf.keras.layers.Flatten(),\n",
    "    tf.keras.layers.Dense(512, activation='relu'),\n",
    "    tf.keras.layers.Dense(n_classes, activation='softmax')    \n",
    "])\n",
    "\n",
    "model.build(input_shape = input_shape)"
   ]
  },
  {
   "cell_type": "code",
   "execution_count": 14,
   "id": "8543684f",
   "metadata": {
    "execution": {
     "iopub.execute_input": "2021-10-23T06:25:27.614872Z",
     "iopub.status.busy": "2021-10-23T06:25:27.613565Z",
     "iopub.status.idle": "2021-10-23T06:25:27.622739Z",
     "shell.execute_reply": "2021-10-23T06:25:27.623232Z",
     "shell.execute_reply.started": "2021-10-23T06:07:42.433447Z"
    },
    "papermill": {
     "duration": 0.035298,
     "end_time": "2021-10-23T06:25:27.623369",
     "exception": false,
     "start_time": "2021-10-23T06:25:27.588071",
     "status": "completed"
    },
    "tags": []
   },
   "outputs": [
    {
     "name": "stdout",
     "output_type": "stream",
     "text": [
      "Model: \"sequential_2\"\n",
      "_________________________________________________________________\n",
      "Layer (type)                 Output Shape              Param #   \n",
      "=================================================================\n",
      "sequential (Sequential)      (32, 32, 32, 3)           0         \n",
      "_________________________________________________________________\n",
      "sequential_1 (Sequential)    (32, 32, 32, 3)           0         \n",
      "_________________________________________________________________\n",
      "conv2d (Conv2D)              (32, 32, 32, 32)          896       \n",
      "_________________________________________________________________\n",
      "max_pooling2d (MaxPooling2D) (32, 16, 16, 32)          0         \n",
      "_________________________________________________________________\n",
      "batch_normalization (BatchNo (32, 16, 16, 32)          128       \n",
      "_________________________________________________________________\n",
      "conv2d_1 (Conv2D)            (32, 16, 16, 64)          18496     \n",
      "_________________________________________________________________\n",
      "max_pooling2d_1 (MaxPooling2 (32, 8, 8, 64)            0         \n",
      "_________________________________________________________________\n",
      "batch_normalization_1 (Batch (32, 8, 8, 64)            256       \n",
      "_________________________________________________________________\n",
      "conv2d_2 (Conv2D)            (32, 8, 8, 128)           73856     \n",
      "_________________________________________________________________\n",
      "max_pooling2d_2 (MaxPooling2 (32, 4, 4, 128)           0         \n",
      "_________________________________________________________________\n",
      "batch_normalization_2 (Batch (32, 4, 4, 128)           512       \n",
      "_________________________________________________________________\n",
      "flatten (Flatten)            (32, 2048)                0         \n",
      "_________________________________________________________________\n",
      "dense (Dense)                (32, 512)                 1049088   \n",
      "_________________________________________________________________\n",
      "dense_1 (Dense)              (32, 46)                  23598     \n",
      "=================================================================\n",
      "Total params: 1,166,830\n",
      "Trainable params: 1,166,382\n",
      "Non-trainable params: 448\n",
      "_________________________________________________________________\n"
     ]
    }
   ],
   "source": [
    "model.summary()"
   ]
  },
  {
   "cell_type": "code",
   "execution_count": 15,
   "id": "adf2c6d1",
   "metadata": {
    "execution": {
     "iopub.execute_input": "2021-10-23T06:25:27.671548Z",
     "iopub.status.busy": "2021-10-23T06:25:27.670543Z",
     "iopub.status.idle": "2021-10-23T06:25:27.676941Z",
     "shell.execute_reply": "2021-10-23T06:25:27.676505Z",
     "shell.execute_reply.started": "2021-10-23T06:07:42.450626Z"
    },
    "papermill": {
     "duration": 0.033647,
     "end_time": "2021-10-23T06:25:27.677045",
     "exception": false,
     "start_time": "2021-10-23T06:25:27.643398",
     "status": "completed"
    },
    "tags": []
   },
   "outputs": [],
   "source": [
    "model.compile(\n",
    "    optimizer='adam',\n",
    "    loss=tf.keras.losses.SparseCategoricalCrossentropy(from_logits=False),\n",
    "    metrics=['accuracy']\n",
    ")"
   ]
  },
  {
   "cell_type": "code",
   "execution_count": 16,
   "id": "8b21e067",
   "metadata": {
    "execution": {
     "iopub.execute_input": "2021-10-23T06:25:27.719609Z",
     "iopub.status.busy": "2021-10-23T06:25:27.718860Z",
     "iopub.status.idle": "2021-10-23T06:47:54.109744Z",
     "shell.execute_reply": "2021-10-23T06:47:54.110199Z",
     "shell.execute_reply.started": "2021-10-23T06:07:42.468024Z"
    },
    "papermill": {
     "duration": 1346.414007,
     "end_time": "2021-10-23T06:47:54.110479",
     "exception": false,
     "start_time": "2021-10-23T06:25:27.696472",
     "status": "completed"
    },
    "tags": []
   },
   "outputs": [
    {
     "name": "stdout",
     "output_type": "stream",
     "text": [
      "Epoch 1/100\n"
     ]
    },
    {
     "name": "stderr",
     "output_type": "stream",
     "text": [
      "2021-10-23 06:25:38.727263: I tensorflow/core/kernels/data/shuffle_dataset_op.cc:175] Filling up shuffle buffer (this may take a while): 289 of 10000\n",
      "2021-10-23 06:25:48.704386: I tensorflow/core/kernels/data/shuffle_dataset_op.cc:175] Filling up shuffle buffer (this may take a while): 582 of 10000\n",
      "2021-10-23 06:25:58.703078: I tensorflow/core/kernels/data/shuffle_dataset_op.cc:175] Filling up shuffle buffer (this may take a while): 878 of 10000\n",
      "2021-10-23 06:26:08.724966: I tensorflow/core/kernels/data/shuffle_dataset_op.cc:175] Filling up shuffle buffer (this may take a while): 1174 of 10000\n",
      "2021-10-23 06:26:18.710753: I tensorflow/core/kernels/data/shuffle_dataset_op.cc:175] Filling up shuffle buffer (this may take a while): 1464 of 10000\n",
      "2021-10-23 06:26:28.729150: I tensorflow/core/kernels/data/shuffle_dataset_op.cc:175] Filling up shuffle buffer (this may take a while): 1753 of 10000\n",
      "2021-10-23 06:26:38.728747: I tensorflow/core/kernels/data/shuffle_dataset_op.cc:175] Filling up shuffle buffer (this may take a while): 2055 of 10000\n",
      "2021-10-23 06:26:48.725606: I tensorflow/core/kernels/data/shuffle_dataset_op.cc:175] Filling up shuffle buffer (this may take a while): 2352 of 10000\n",
      "2021-10-23 06:26:51.663768: I tensorflow/core/kernels/data/shuffle_dataset_op.cc:228] Shuffle buffer filled.\n",
      "2021-10-23 06:26:51.663859: I tensorflow/core/kernels/data/shuffle_dataset_op.cc:175] Filling up shuffle buffer (this may take a while): 1 of 1000\n",
      "2021-10-23 06:26:51.663881: I tensorflow/core/kernels/data/shuffle_dataset_op.cc:175] Filling up shuffle buffer (this may take a while): 2 of 1000\n",
      "2021-10-23 06:26:51.663895: I tensorflow/core/kernels/data/shuffle_dataset_op.cc:175] Filling up shuffle buffer (this may take a while): 3 of 1000\n",
      "2021-10-23 06:26:51.663908: I tensorflow/core/kernels/data/shuffle_dataset_op.cc:175] Filling up shuffle buffer (this may take a while): 4 of 1000\n",
      "2021-10-23 06:26:51.663922: I tensorflow/core/kernels/data/shuffle_dataset_op.cc:175] Filling up shuffle buffer (this may take a while): 5 of 1000\n",
      "2021-10-23 06:26:51.663934: I tensorflow/core/kernels/data/shuffle_dataset_op.cc:175] Filling up shuffle buffer (this may take a while): 6 of 1000\n",
      "2021-10-23 06:26:51.663947: I tensorflow/core/kernels/data/shuffle_dataset_op.cc:175] Filling up shuffle buffer (this may take a while): 7 of 1000\n",
      "2021-10-23 06:26:51.663962: I tensorflow/core/kernels/data/shuffle_dataset_op.cc:175] Filling up shuffle buffer (this may take a while): 8 of 1000\n",
      "2021-10-23 06:26:51.666691: I tensorflow/core/kernels/data/shuffle_dataset_op.cc:228] Shuffle buffer filled.\n",
      "2021-10-23 06:26:52.421334: I tensorflow/stream_executor/cuda/cuda_dnn.cc:369] Loaded cuDNN version 8005\n"
     ]
    },
    {
     "name": "stdout",
     "output_type": "stream",
     "text": [
      "2190/2199 [============================>.] - ETA: 0s - loss: 0.4721 - accuracy: 0.8637"
     ]
    },
    {
     "name": "stderr",
     "output_type": "stream",
     "text": [
      "2021-10-23 06:27:16.999139: I tensorflow/core/kernels/data/shuffle_dataset_op.cc:175] Filling up shuffle buffer (this may take a while): 1504 of 10000\n",
      "2021-10-23 06:27:22.810213: I tensorflow/core/kernels/data/shuffle_dataset_op.cc:228] Shuffle buffer filled.\n",
      "2021-10-23 06:27:22.813966: I tensorflow/core/kernels/data/shuffle_dataset_op.cc:175] Filling up shuffle buffer (this may take a while): 1 of 1000\n",
      "2021-10-23 06:27:22.814913: I tensorflow/core/kernels/data/shuffle_dataset_op.cc:228] Shuffle buffer filled.\n"
     ]
    },
    {
     "name": "stdout",
     "output_type": "stream",
     "text": [
      "2199/2199 [==============================] - 116s 12ms/step - loss: 0.4708 - accuracy: 0.8641 - val_loss: 0.3109 - val_accuracy: 0.9177\n",
      "Epoch 2/100\n",
      "2199/2199 [==============================] - 9s 4ms/step - loss: 0.1738 - accuracy: 0.9475 - val_loss: 0.1341 - val_accuracy: 0.9630\n",
      "Epoch 3/100\n",
      "2199/2199 [==============================] - 9s 4ms/step - loss: 0.1280 - accuracy: 0.9624 - val_loss: 0.0880 - val_accuracy: 0.9750\n",
      "Epoch 4/100\n",
      "2199/2199 [==============================] - 10s 5ms/step - loss: 0.1025 - accuracy: 0.9694 - val_loss: 0.0920 - val_accuracy: 0.9754\n",
      "Epoch 5/100\n",
      "2199/2199 [==============================] - 10s 4ms/step - loss: 0.0835 - accuracy: 0.9755 - val_loss: 0.0735 - val_accuracy: 0.9796\n",
      "Epoch 6/100\n",
      "2199/2199 [==============================] - 9s 4ms/step - loss: 0.0731 - accuracy: 0.9782 - val_loss: 0.0547 - val_accuracy: 0.9846\n",
      "Epoch 7/100\n",
      "2199/2199 [==============================] - 10s 5ms/step - loss: 0.0624 - accuracy: 0.9811 - val_loss: 0.0581 - val_accuracy: 0.9847\n",
      "Epoch 8/100\n",
      "2199/2199 [==============================] - 10s 4ms/step - loss: 0.0576 - accuracy: 0.9828 - val_loss: 0.0425 - val_accuracy: 0.9878\n",
      "Epoch 9/100\n",
      "2199/2199 [==============================] - 10s 5ms/step - loss: 0.0497 - accuracy: 0.9851 - val_loss: 0.0412 - val_accuracy: 0.9888\n",
      "Epoch 10/100\n",
      "2199/2199 [==============================] - 10s 4ms/step - loss: 0.0452 - accuracy: 0.9863 - val_loss: 0.0650 - val_accuracy: 0.9844\n",
      "Epoch 11/100\n",
      "2199/2199 [==============================] - 10s 5ms/step - loss: 0.0402 - accuracy: 0.9880 - val_loss: 0.0322 - val_accuracy: 0.9916\n",
      "Epoch 12/100\n",
      "2199/2199 [==============================] - 9s 4ms/step - loss: 0.0394 - accuracy: 0.9882 - val_loss: 0.0490 - val_accuracy: 0.9890\n",
      "Epoch 13/100\n",
      "2199/2199 [==============================] - 10s 5ms/step - loss: 0.0356 - accuracy: 0.9896 - val_loss: 0.0320 - val_accuracy: 0.9930\n",
      "Epoch 14/100\n",
      "2199/2199 [==============================] - 10s 5ms/step - loss: 0.0336 - accuracy: 0.9903 - val_loss: 0.0389 - val_accuracy: 0.9901\n",
      "Epoch 15/100\n",
      "2199/2199 [==============================] - 10s 4ms/step - loss: 0.0298 - accuracy: 0.9908 - val_loss: 0.0216 - val_accuracy: 0.9939\n",
      "Epoch 16/100\n",
      "2199/2199 [==============================] - 10s 5ms/step - loss: 0.0287 - accuracy: 0.9915 - val_loss: 0.0208 - val_accuracy: 0.9936\n",
      "Epoch 17/100\n",
      "2199/2199 [==============================] - 10s 5ms/step - loss: 0.0257 - accuracy: 0.9921 - val_loss: 0.0347 - val_accuracy: 0.9912\n",
      "Epoch 18/100\n",
      "2199/2199 [==============================] - 9s 4ms/step - loss: 0.0243 - accuracy: 0.9927 - val_loss: 0.0355 - val_accuracy: 0.9894\n",
      "Epoch 19/100\n",
      "2199/2199 [==============================] - 10s 5ms/step - loss: 0.0263 - accuracy: 0.9920 - val_loss: 0.0328 - val_accuracy: 0.9920\n",
      "Epoch 20/100\n",
      "2199/2199 [==============================] - 10s 5ms/step - loss: 0.0215 - accuracy: 0.9934 - val_loss: 0.0201 - val_accuracy: 0.9952\n",
      "Epoch 21/100\n",
      "2199/2199 [==============================] - 10s 4ms/step - loss: 0.0237 - accuracy: 0.9928 - val_loss: 0.0215 - val_accuracy: 0.9939\n",
      "Epoch 22/100\n",
      "2199/2199 [==============================] - 9s 4ms/step - loss: 0.0215 - accuracy: 0.9938 - val_loss: 0.0240 - val_accuracy: 0.9930\n",
      "Epoch 23/100\n",
      "2199/2199 [==============================] - 10s 5ms/step - loss: 0.0176 - accuracy: 0.9946 - val_loss: 0.0168 - val_accuracy: 0.9955\n",
      "Epoch 24/100\n",
      "2199/2199 [==============================] - 10s 5ms/step - loss: 0.0188 - accuracy: 0.9940 - val_loss: 0.0207 - val_accuracy: 0.9941\n",
      "Epoch 25/100\n",
      "2199/2199 [==============================] - 10s 4ms/step - loss: 0.0167 - accuracy: 0.9948 - val_loss: 0.0175 - val_accuracy: 0.9950\n",
      "Epoch 26/100\n",
      "2199/2199 [==============================] - 10s 5ms/step - loss: 0.0187 - accuracy: 0.9942 - val_loss: 0.0141 - val_accuracy: 0.9959\n",
      "Epoch 27/100\n",
      "2199/2199 [==============================] - 10s 4ms/step - loss: 0.0181 - accuracy: 0.9943 - val_loss: 0.0264 - val_accuracy: 0.9936\n",
      "Epoch 28/100\n",
      "2199/2199 [==============================] - 10s 5ms/step - loss: 0.0165 - accuracy: 0.9949 - val_loss: 0.0216 - val_accuracy: 0.9950\n",
      "Epoch 29/100\n",
      "2199/2199 [==============================] - 10s 5ms/step - loss: 0.0167 - accuracy: 0.9953 - val_loss: 0.0194 - val_accuracy: 0.9955\n",
      "Epoch 30/100\n",
      "2199/2199 [==============================] - 10s 5ms/step - loss: 0.0172 - accuracy: 0.9948 - val_loss: 0.0141 - val_accuracy: 0.9960\n",
      "Epoch 31/100\n",
      "2199/2199 [==============================] - 9s 4ms/step - loss: 0.0159 - accuracy: 0.9951 - val_loss: 0.0202 - val_accuracy: 0.9945\n",
      "Epoch 32/100\n",
      "2199/2199 [==============================] - 9s 4ms/step - loss: 0.0145 - accuracy: 0.9956 - val_loss: 0.0288 - val_accuracy: 0.9912\n",
      "Epoch 33/100\n",
      "2199/2199 [==============================] - 11s 5ms/step - loss: 0.0139 - accuracy: 0.9954 - val_loss: 0.0273 - val_accuracy: 0.9918\n",
      "Epoch 34/100\n",
      "2199/2199 [==============================] - 10s 4ms/step - loss: 0.0152 - accuracy: 0.9954 - val_loss: 0.0112 - val_accuracy: 0.9974\n",
      "Epoch 35/100\n",
      "2199/2199 [==============================] - 10s 4ms/step - loss: 0.0148 - accuracy: 0.9958 - val_loss: 0.0224 - val_accuracy: 0.9932\n",
      "Epoch 36/100\n",
      "2199/2199 [==============================] - 11s 5ms/step - loss: 0.0143 - accuracy: 0.9957 - val_loss: 0.0155 - val_accuracy: 0.9963\n",
      "Epoch 37/100\n",
      "2199/2199 [==============================] - 10s 4ms/step - loss: 0.0128 - accuracy: 0.9961 - val_loss: 0.0223 - val_accuracy: 0.9941\n",
      "Epoch 38/100\n",
      "2199/2199 [==============================] - 11s 5ms/step - loss: 0.0143 - accuracy: 0.9958 - val_loss: 0.0184 - val_accuracy: 0.9945\n",
      "Epoch 39/100\n",
      "2199/2199 [==============================] - 10s 4ms/step - loss: 0.0138 - accuracy: 0.9959 - val_loss: 0.0143 - val_accuracy: 0.9968\n",
      "Epoch 40/100\n",
      "2199/2199 [==============================] - 9s 4ms/step - loss: 0.0115 - accuracy: 0.9968 - val_loss: 0.0199 - val_accuracy: 0.9953\n",
      "Epoch 41/100\n",
      "2199/2199 [==============================] - 10s 5ms/step - loss: 0.0141 - accuracy: 0.9960 - val_loss: 0.0157 - val_accuracy: 0.9968\n",
      "Epoch 42/100\n",
      "2199/2199 [==============================] - 9s 4ms/step - loss: 0.0124 - accuracy: 0.9959 - val_loss: 0.0142 - val_accuracy: 0.9969\n",
      "Epoch 43/100\n",
      "2199/2199 [==============================] - 9s 4ms/step - loss: 0.0122 - accuracy: 0.9965 - val_loss: 0.0091 - val_accuracy: 0.9982\n",
      "Epoch 44/100\n",
      "2199/2199 [==============================] - 11s 5ms/step - loss: 0.0117 - accuracy: 0.9968 - val_loss: 0.0142 - val_accuracy: 0.9972\n",
      "Epoch 45/100\n",
      "2199/2199 [==============================] - 10s 4ms/step - loss: 0.0133 - accuracy: 0.9962 - val_loss: 0.0138 - val_accuracy: 0.9966\n",
      "Epoch 46/100\n",
      "2199/2199 [==============================] - 11s 5ms/step - loss: 0.0115 - accuracy: 0.9968 - val_loss: 0.0080 - val_accuracy: 0.9985\n",
      "Epoch 47/100\n",
      "2199/2199 [==============================] - 9s 4ms/step - loss: 0.0100 - accuracy: 0.9972 - val_loss: 0.0087 - val_accuracy: 0.9968\n",
      "Epoch 48/100\n",
      "2199/2199 [==============================] - 10s 5ms/step - loss: 0.0116 - accuracy: 0.9965 - val_loss: 0.0173 - val_accuracy: 0.9971\n",
      "Epoch 49/100\n",
      "2199/2199 [==============================] - 9s 4ms/step - loss: 0.0122 - accuracy: 0.9965 - val_loss: 0.0147 - val_accuracy: 0.9969\n",
      "Epoch 50/100\n",
      "2199/2199 [==============================] - 10s 4ms/step - loss: 0.0123 - accuracy: 0.9969 - val_loss: 0.0162 - val_accuracy: 0.9967\n",
      "Epoch 51/100\n",
      "2199/2199 [==============================] - 12s 5ms/step - loss: 0.0109 - accuracy: 0.9969 - val_loss: 0.0210 - val_accuracy: 0.9953\n",
      "Epoch 52/100\n",
      "2199/2199 [==============================] - 9s 4ms/step - loss: 0.0101 - accuracy: 0.9972 - val_loss: 0.0190 - val_accuracy: 0.9973\n",
      "Epoch 53/100\n",
      "2199/2199 [==============================] - 12s 5ms/step - loss: 0.0118 - accuracy: 0.9965 - val_loss: 0.0390 - val_accuracy: 0.9930\n",
      "Epoch 54/100\n",
      "2199/2199 [==============================] - 9s 4ms/step - loss: 0.0100 - accuracy: 0.9975 - val_loss: 0.0155 - val_accuracy: 0.9963\n",
      "Epoch 55/100\n",
      "2199/2199 [==============================] - 9s 4ms/step - loss: 0.0117 - accuracy: 0.9971 - val_loss: 0.0140 - val_accuracy: 0.9972\n",
      "Epoch 56/100\n",
      "2199/2199 [==============================] - 10s 4ms/step - loss: 0.0109 - accuracy: 0.9969 - val_loss: 0.0196 - val_accuracy: 0.9966\n",
      "Epoch 57/100\n",
      "2199/2199 [==============================] - 11s 5ms/step - loss: 0.0106 - accuracy: 0.9970 - val_loss: 0.0126 - val_accuracy: 0.9978\n",
      "Epoch 58/100\n",
      "2199/2199 [==============================] - 10s 4ms/step - loss: 0.0112 - accuracy: 0.9969 - val_loss: 0.0211 - val_accuracy: 0.9955\n",
      "Epoch 59/100\n",
      "2199/2199 [==============================] - 12s 5ms/step - loss: 0.0095 - accuracy: 0.9973 - val_loss: 0.0260 - val_accuracy: 0.9945\n",
      "Epoch 60/100\n",
      "2199/2199 [==============================] - 10s 4ms/step - loss: 0.0085 - accuracy: 0.9975 - val_loss: 0.0175 - val_accuracy: 0.9966\n",
      "Epoch 61/100\n",
      "2199/2199 [==============================] - 10s 4ms/step - loss: 0.0108 - accuracy: 0.9969 - val_loss: 0.0102 - val_accuracy: 0.9980\n",
      "Epoch 62/100\n",
      "2199/2199 [==============================] - 10s 5ms/step - loss: 0.0098 - accuracy: 0.9975 - val_loss: 0.0162 - val_accuracy: 0.9967\n",
      "Epoch 63/100\n",
      "2199/2199 [==============================] - 9s 4ms/step - loss: 0.0100 - accuracy: 0.9973 - val_loss: 0.0141 - val_accuracy: 0.9964\n",
      "Epoch 64/100\n",
      "2199/2199 [==============================] - 10s 4ms/step - loss: 0.0108 - accuracy: 0.9973 - val_loss: 0.0161 - val_accuracy: 0.9969\n",
      "Epoch 65/100\n",
      "2199/2199 [==============================] - 12s 5ms/step - loss: 0.0113 - accuracy: 0.9971 - val_loss: 0.0204 - val_accuracy: 0.9964\n",
      "Epoch 66/100\n",
      "2199/2199 [==============================] - 9s 4ms/step - loss: 0.0107 - accuracy: 0.9972 - val_loss: 0.0190 - val_accuracy: 0.9972\n",
      "Epoch 67/100\n",
      "2199/2199 [==============================] - 10s 5ms/step - loss: 0.0095 - accuracy: 0.9974 - val_loss: 0.0106 - val_accuracy: 0.9973\n",
      "Epoch 68/100\n",
      "2199/2199 [==============================] - 11s 5ms/step - loss: 0.0105 - accuracy: 0.9973 - val_loss: 0.0209 - val_accuracy: 0.9959\n",
      "Epoch 69/100\n",
      "2199/2199 [==============================] - 10s 4ms/step - loss: 0.0102 - accuracy: 0.9972 - val_loss: 0.0175 - val_accuracy: 0.9976\n",
      "Epoch 70/100\n",
      "2199/2199 [==============================] - 10s 4ms/step - loss: 0.0093 - accuracy: 0.9976 - val_loss: 0.0172 - val_accuracy: 0.9968\n",
      "Epoch 71/100\n",
      "2199/2199 [==============================] - 12s 5ms/step - loss: 0.0090 - accuracy: 0.9977 - val_loss: 0.0193 - val_accuracy: 0.9973\n",
      "Epoch 72/100\n",
      "2199/2199 [==============================] - 10s 5ms/step - loss: 0.0098 - accuracy: 0.9975 - val_loss: 0.0228 - val_accuracy: 0.9971\n",
      "Epoch 73/100\n",
      "2199/2199 [==============================] - 12s 5ms/step - loss: 0.0112 - accuracy: 0.9973 - val_loss: 0.0324 - val_accuracy: 0.9952\n",
      "Epoch 74/100\n",
      "2199/2199 [==============================] - 9s 4ms/step - loss: 0.0111 - accuracy: 0.9974 - val_loss: 0.0162 - val_accuracy: 0.9962\n",
      "Epoch 75/100\n",
      "2199/2199 [==============================] - 11s 5ms/step - loss: 0.0104 - accuracy: 0.9973 - val_loss: 0.0095 - val_accuracy: 0.9986\n",
      "Epoch 76/100\n",
      "2199/2199 [==============================] - 10s 5ms/step - loss: 0.0108 - accuracy: 0.9975 - val_loss: 0.0301 - val_accuracy: 0.9954\n",
      "Epoch 77/100\n",
      "2199/2199 [==============================] - 9s 4ms/step - loss: 0.0081 - accuracy: 0.9978 - val_loss: 0.0167 - val_accuracy: 0.9977\n",
      "Epoch 78/100\n",
      "2199/2199 [==============================] - 12s 6ms/step - loss: 0.0112 - accuracy: 0.9974 - val_loss: 0.0169 - val_accuracy: 0.9972\n",
      "Epoch 79/100\n",
      "2199/2199 [==============================] - 10s 4ms/step - loss: 0.0078 - accuracy: 0.9980 - val_loss: 0.0108 - val_accuracy: 0.9981\n",
      "Epoch 80/100\n",
      "2199/2199 [==============================] - 10s 4ms/step - loss: 0.0108 - accuracy: 0.9972 - val_loss: 0.0199 - val_accuracy: 0.9974\n",
      "Epoch 81/100\n",
      "2199/2199 [==============================] - 12s 6ms/step - loss: 0.0106 - accuracy: 0.9974 - val_loss: 0.0144 - val_accuracy: 0.9981\n",
      "Epoch 82/100\n",
      "2199/2199 [==============================] - 9s 4ms/step - loss: 0.0090 - accuracy: 0.9978 - val_loss: 0.0279 - val_accuracy: 0.9963\n",
      "Epoch 83/100\n",
      "2199/2199 [==============================] - 10s 5ms/step - loss: 0.0113 - accuracy: 0.9973 - val_loss: 0.0133 - val_accuracy: 0.9974\n",
      "Epoch 84/100\n",
      "2199/2199 [==============================] - 9s 4ms/step - loss: 0.0093 - accuracy: 0.9977 - val_loss: 0.0166 - val_accuracy: 0.9974\n",
      "Epoch 85/100\n",
      "2199/2199 [==============================] - 9s 4ms/step - loss: 0.0099 - accuracy: 0.9978 - val_loss: 0.0195 - val_accuracy: 0.9972\n",
      "Epoch 86/100\n",
      "2199/2199 [==============================] - 11s 5ms/step - loss: 0.0105 - accuracy: 0.9974 - val_loss: 0.0110 - val_accuracy: 0.9973\n",
      "Epoch 87/100\n",
      "2199/2199 [==============================] - 10s 4ms/step - loss: 0.0084 - accuracy: 0.9980 - val_loss: 0.0204 - val_accuracy: 0.9968\n",
      "Epoch 88/100\n",
      "2199/2199 [==============================] - 10s 4ms/step - loss: 0.0102 - accuracy: 0.9978 - val_loss: 0.0174 - val_accuracy: 0.9976\n",
      "Epoch 89/100\n",
      "2199/2199 [==============================] - 10s 4ms/step - loss: 0.0090 - accuracy: 0.9977 - val_loss: 0.0272 - val_accuracy: 0.9964\n",
      "Epoch 90/100\n",
      "2199/2199 [==============================] - 10s 4ms/step - loss: 0.0085 - accuracy: 0.9981 - val_loss: 0.0216 - val_accuracy: 0.9973\n",
      "Epoch 91/100\n",
      "2199/2199 [==============================] - 10s 4ms/step - loss: 0.0109 - accuracy: 0.9977 - val_loss: 0.0110 - val_accuracy: 0.9983\n",
      "Epoch 92/100\n",
      "2199/2199 [==============================] - 13s 6ms/step - loss: 0.0115 - accuracy: 0.9979 - val_loss: 0.0195 - val_accuracy: 0.9974\n",
      "Epoch 93/100\n",
      "2199/2199 [==============================] - 10s 4ms/step - loss: 0.0078 - accuracy: 0.9983 - val_loss: 0.0214 - val_accuracy: 0.9972\n",
      "Epoch 94/100\n",
      "2199/2199 [==============================] - 10s 4ms/step - loss: 0.0107 - accuracy: 0.9977 - val_loss: 0.0157 - val_accuracy: 0.9981\n",
      "Epoch 95/100\n",
      "2199/2199 [==============================] - 10s 5ms/step - loss: 0.0098 - accuracy: 0.9976 - val_loss: 0.0139 - val_accuracy: 0.9982\n",
      "Epoch 96/100\n",
      "2199/2199 [==============================] - 10s 4ms/step - loss: 0.0088 - accuracy: 0.9978 - val_loss: 0.0211 - val_accuracy: 0.9974\n",
      "Epoch 97/100\n",
      "2199/2199 [==============================] - 9s 4ms/step - loss: 0.0077 - accuracy: 0.9980 - val_loss: 0.0250 - val_accuracy: 0.9960\n",
      "Epoch 98/100\n",
      "2199/2199 [==============================] - 10s 5ms/step - loss: 0.0090 - accuracy: 0.9980 - val_loss: 0.0146 - val_accuracy: 0.9981\n",
      "Epoch 99/100\n",
      "2199/2199 [==============================] - 13s 6ms/step - loss: 0.0105 - accuracy: 0.9978 - val_loss: 0.0219 - val_accuracy: 0.9969\n",
      "Epoch 100/100\n",
      "2199/2199 [==============================] - 9s 4ms/step - loss: 0.0097 - accuracy: 0.9980 - val_loss: 0.0211 - val_accuracy: 0.9969\n"
     ]
    }
   ],
   "source": [
    "history = model.fit(\n",
    "    train_ds,\n",
    "    epochs=EPOCHS,\n",
    "    batch_size=BATCH_SIZE,\n",
    "    validation_data=valid_ds,\n",
    "    verbose=1\n",
    ")"
   ]
  },
  {
   "cell_type": "code",
   "execution_count": 17,
   "id": "098636e6",
   "metadata": {
    "execution": {
     "iopub.execute_input": "2021-10-23T06:48:04.729564Z",
     "iopub.status.busy": "2021-10-23T06:48:04.728631Z",
     "iopub.status.idle": "2021-10-23T06:48:04.730870Z",
     "shell.execute_reply": "2021-10-23T06:48:04.730469Z",
     "shell.execute_reply.started": "2021-10-23T06:11:34.164961Z"
    },
    "papermill": {
     "duration": 4.969937,
     "end_time": "2021-10-23T06:48:04.730987",
     "exception": false,
     "start_time": "2021-10-23T06:47:59.761050",
     "status": "completed"
    },
    "tags": []
   },
   "outputs": [],
   "source": [
    "acc = history.history['accuracy']\n",
    "val_acc = history.history['val_accuracy']\n",
    "\n",
    "loss = history.history['loss']\n",
    "val_loss = history.history['val_loss']"
   ]
  },
  {
   "cell_type": "code",
   "execution_count": 18,
   "id": "b5be5b03",
   "metadata": {
    "execution": {
     "iopub.execute_input": "2021-10-23T06:48:14.912197Z",
     "iopub.status.busy": "2021-10-23T06:48:14.903888Z",
     "iopub.status.idle": "2021-10-23T06:48:15.202720Z",
     "shell.execute_reply": "2021-10-23T06:48:15.201987Z",
     "shell.execute_reply.started": "2021-10-23T06:11:34.174683Z"
    },
    "papermill": {
     "duration": 5.302023,
     "end_time": "2021-10-23T06:48:15.202865",
     "exception": false,
     "start_time": "2021-10-23T06:48:09.900842",
     "status": "completed"
    },
    "tags": []
   },
   "outputs": [
    {
     "data": {
      "image/png": "[encoded data removed]",
      "text/plain": [
       "<Figure size 576x576 with 2 Axes>"
      ]
     },
     "metadata": {
      "needs_background": "light"
     },
     "output_type": "display_data"
    }
   ],
   "source": [
    "plt.figure(figsize=(8, 8))\n",
    "plt.subplot(1, 2, 1)\n",
    "plt.plot(range(EPOCHS), acc, label='Training Accuracy')\n",
    "plt.plot(range(EPOCHS), val_acc, label='Validation Accuracy')\n",
    "plt.legend(loc='lower right')\n",
    "plt.title('Training and Validation Accuracy')\n",
    "\n",
    "plt.subplot(1, 2, 2)\n",
    "plt.plot(range(EPOCHS), loss, label='Training Loss')\n",
    "plt.plot(range(EPOCHS), val_loss, label='Validation Loss')\n",
    "plt.legend(loc='upper right')\n",
    "plt.title('Training and Validation Loss')\n",
    "plt.show()"
   ]
  },
  {
   "cell_type": "code",
   "execution_count": 19,
   "id": "d196a7f9",
   "metadata": {
    "execution": {
     "iopub.execute_input": "2021-10-23T06:48:25.346994Z",
     "iopub.status.busy": "2021-10-23T06:48:25.345953Z",
     "iopub.status.idle": "2021-10-23T06:48:28.548395Z",
     "shell.execute_reply": "2021-10-23T06:48:28.551929Z",
     "shell.execute_reply.started": "2021-10-23T06:11:34.491807Z"
    },
    "papermill": {
     "duration": 8.146471,
     "end_time": "2021-10-23T06:48:28.552110",
     "exception": false,
     "start_time": "2021-10-23T06:48:20.405639",
     "status": "completed"
    },
    "tags": []
   },
   "outputs": [
    {
     "name": "stderr",
     "output_type": "stream",
     "text": [
      "2021-10-23 06:48:26.209665: W tensorflow/python/util/util.cc:348] Sets are not currently considered sequences, but this may change in the future, so consider avoiding using them.\n"
     ]
    }
   ],
   "source": [
    "model.save(\"model\")"
   ]
  },
  {
   "cell_type": "code",
   "execution_count": 20,
   "id": "1816d724",
   "metadata": {
    "execution": {
     "iopub.execute_input": "2021-10-23T06:48:39.056062Z",
     "iopub.status.busy": "2021-10-23T06:48:39.055321Z",
     "iopub.status.idle": "2021-10-23T06:48:39.081941Z",
     "shell.execute_reply": "2021-10-23T06:48:39.081461Z",
     "shell.execute_reply.started": "2021-10-23T06:11:37.342199Z"
    },
    "papermill": {
     "duration": 5.187734,
     "end_time": "2021-10-23T06:48:39.082069",
     "exception": false,
     "start_time": "2021-10-23T06:48:33.894335",
     "status": "completed"
    },
    "tags": []
   },
   "outputs": [],
   "source": [
    "sample = pd.read_csv('../input/devnagri-script-classification/Data/sample_submission.csv')"
   ]
  },
  {
   "cell_type": "code",
   "execution_count": 21,
   "id": "70619165",
   "metadata": {
    "execution": {
     "iopub.execute_input": "2021-10-23T06:48:48.815980Z",
     "iopub.status.busy": "2021-10-23T06:48:48.815359Z",
     "iopub.status.idle": "2021-10-23T06:49:15.856927Z",
     "shell.execute_reply": "2021-10-23T06:49:15.856448Z",
     "shell.execute_reply.started": "2021-10-23T06:11:37.370745Z"
    },
    "papermill": {
     "duration": 31.962365,
     "end_time": "2021-10-23T06:49:15.857060",
     "exception": false,
     "start_time": "2021-10-23T06:48:43.894695",
     "status": "completed"
    },
    "tags": []
   },
   "outputs": [],
   "source": [
    "import os\n",
    "import cv2\n",
    "\n",
    "folder_path = '../input/devnagri-script-classification/Data/Test'\n",
    "\n",
    "images = []\n",
    "\n",
    "for i in range(sample.shape[0]):\n",
    "    img = os.path.join(folder_path, str(i+1)+'.png')\n",
    "    img = cv2.imread(img)\n",
    "    images.append(img)"
   ]
  },
  {
   "cell_type": "code",
   "execution_count": 22,
   "id": "e08641a4",
   "metadata": {
    "execution": {
     "iopub.execute_input": "2021-10-23T06:49:25.989534Z",
     "iopub.status.busy": "2021-10-23T06:49:25.988437Z",
     "iopub.status.idle": "2021-10-23T06:49:26.020555Z",
     "shell.execute_reply": "2021-10-23T06:49:26.020974Z",
     "shell.execute_reply.started": "2021-10-23T06:12:12.667553Z"
    },
    "papermill": {
     "duration": 5.270033,
     "end_time": "2021-10-23T06:49:26.021140",
     "exception": false,
     "start_time": "2021-10-23T06:49:20.751107",
     "status": "completed"
    },
    "tags": []
   },
   "outputs": [
    {
     "data": {
      "text/plain": [
       "(13800, 32, 32, 3)"
      ]
     },
     "execution_count": 22,
     "metadata": {},
     "output_type": "execute_result"
    }
   ],
   "source": [
    "images = np.array(images)\n",
    "images.shape"
   ]
  },
  {
   "cell_type": "code",
   "execution_count": 23,
   "id": "941a0995",
   "metadata": {
    "execution": {
     "iopub.execute_input": "2021-10-23T06:49:36.733625Z",
     "iopub.status.busy": "2021-10-23T06:49:36.732495Z",
     "iopub.status.idle": "2021-10-23T06:49:37.585189Z",
     "shell.execute_reply": "2021-10-23T06:49:37.584616Z",
     "shell.execute_reply.started": "2021-10-23T06:12:12.705632Z"
    },
    "papermill": {
     "duration": 6.614961,
     "end_time": "2021-10-23T06:49:37.585331",
     "exception": false,
     "start_time": "2021-10-23T06:49:30.970370",
     "status": "completed"
    },
    "tags": []
   },
   "outputs": [],
   "source": [
    "temp = np.argmax(model.predict(images), axis=1)\n",
    "preds=[]\n",
    "for i in temp:\n",
    "    preds.append(class_names[i])"
   ]
  },
  {
   "cell_type": "code",
   "execution_count": 24,
   "id": "a8a765e8",
   "metadata": {
    "execution": {
     "iopub.execute_input": "2021-10-23T06:49:47.616954Z",
     "iopub.status.busy": "2021-10-23T06:49:47.615993Z",
     "iopub.status.idle": "2021-10-23T06:49:47.652060Z",
     "shell.execute_reply": "2021-10-23T06:49:47.651550Z",
     "shell.execute_reply.started": "2021-10-23T06:12:13.549993Z"
    },
    "papermill": {
     "duration": 5.177482,
     "end_time": "2021-10-23T06:49:47.652221",
     "exception": false,
     "start_time": "2021-10-23T06:49:42.474739",
     "status": "completed"
    },
    "tags": []
   },
   "outputs": [],
   "source": [
    "sample['Category'] = preds\n",
    "sample.to_csv('submission.csv', index=False)"
   ]
  }
 ],
 "metadata": {
  "kernelspec": {
   "display_name": "Python 3",
   "language": "python",
   "name": "python3"
  },
  "language_info": {
   "codemirror_mode": {
    "name": "ipython",
    "version": 3
   },
   "file_extension": ".py",
   "mimetype": "text/x-python",
   "name": "python",
   "nbconvert_exporter": "python",
   "pygments_lexer": "ipython3",
   "version": "3.7.10"
  },
  "papermill": {
   "default_parameters": {},
   "duration": 1496.233864,
   "end_time": "2021-10-23T06:49:55.937635",
   "environment_variables": {},
   "exception": null,
   "input_path": "__notebook__.ipynb",
   "output_path": "__notebook__.ipynb",
   "parameters": {},
   "start_time": "2021-10-23T06:24:59.703771",
   "version": "2.3.3"
  }
 },
 "nbformat": 4,
 "nbformat_minor": 5
}
